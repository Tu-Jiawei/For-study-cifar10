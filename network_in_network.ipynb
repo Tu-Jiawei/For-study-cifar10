{
 "cells": [
  {
   "cell_type": "code",
   "execution_count": null,
   "metadata": {},
   "outputs": [
    {
     "name": "stdout",
     "output_type": "stream",
     "text": [
      "Training Step: 1172  | total loss: \u001b[1m\u001b[32m1.30921\u001b[0m\u001b[0m | time: 28.498s\n",
      "\u001b[2K\r",
      "| Adam | epoch: 003 | loss: 1.30921 - acc: 0.5514 -- iter: 49920/50000\n"
     ]
    }
   ],
   "source": [
    "# -*- coding: utf-8 -*-\n",
    "\n",
    "\"\"\" Network In Network.\n",
    "Applying 'Network In Network' to CIFAR-10 classification task.\n",
    "References:\n",
    "    Network In Network. Min Li, Qiang Chen & Shuicheng Yan, 2014.\n",
    "Links:\n",
    "    http://arxiv.org/pdf/1312.4400v3.pdf\n",
    "\"\"\"\n",
    "\n",
    "from __future__ import division, print_function, absolute_import\n",
    "\n",
    "import tflearn\n",
    "from tflearn.data_utils import shuffle, to_categorical\n",
    "from tflearn.layers.core import input_data, dropout, flatten\n",
    "from tflearn.layers.conv import conv_2d, max_pool_2d, avg_pool_2d\n",
    "from tflearn.layers.estimator import regression\n",
    "\n",
    "# Data loading and preprocessing\n",
    "from tflearn.datasets import cifar10\n",
    "(X, Y), (X_test, Y_test) = cifar10.load_data()\n",
    "X, Y = shuffle(X, Y)\n",
    "Y = to_categorical(Y,10)\n",
    "Y_test = to_categorical(Y_test,10)\n",
    "\n",
    "# Building 'Network In Network'\n",
    "network = input_data(shape=[None, 32, 32, 3])\n",
    "network = conv_2d(network, 192, 5, activation='relu')\n",
    "network = conv_2d(network, 160, 1, activation='relu')\n",
    "network = conv_2d(network, 96, 1, activation='relu')\n",
    "network = max_pool_2d(network, 3, strides=2)\n",
    "network = dropout(network, 0.5)\n",
    "network = conv_2d(network, 192, 5, activation='relu')\n",
    "network = conv_2d(network, 192, 1, activation='relu')\n",
    "network = conv_2d(network, 192, 1, activation='relu')\n",
    "network = avg_pool_2d(network, 3, strides=2)\n",
    "network = dropout(network, 0.5)\n",
    "network = conv_2d(network, 192, 3, activation='relu')\n",
    "network = conv_2d(network, 192, 1, activation='relu')\n",
    "network = conv_2d(network, 10, 1, activation='relu')\n",
    "network = avg_pool_2d(network, 8)\n",
    "network = flatten(network)\n",
    "network = regression(network, optimizer='adam',\n",
    "                     loss='softmax_categorical_crossentropy',\n",
    "                     learning_rate=0.001)\n",
    "\n",
    "# Training\n",
    "model = tflearn.DNN(network)\n",
    "model.fit(X, Y, n_epoch=50, shuffle=True, validation_set=(X_test, Y_test),\n",
    "          show_metric=True, batch_size=128, run_id='cifar10_net_in_net')"
   ]
  },
  {
   "cell_type": "code",
   "execution_count": null,
   "metadata": {},
   "outputs": [],
   "source": []
  }
 ],
 "metadata": {
  "kernelspec": {
   "display_name": "Python 3",
   "language": "python",
   "name": "python3"
  },
  "language_info": {
   "codemirror_mode": {
    "name": "ipython",
    "version": 3
   },
   "file_extension": ".py",
   "mimetype": "text/x-python",
   "name": "python",
   "nbconvert_exporter": "python",
   "pygments_lexer": "ipython3",
   "version": "3.5.5"
  }
 },
 "nbformat": 4,
 "nbformat_minor": 2
}
